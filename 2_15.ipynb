{
 "cells": [
  {
   "cell_type": "code",
   "execution_count": 1,
   "metadata": {},
   "outputs": [
    {
     "data": {
      "text/plain": [
       "{'name': 'Ruotong.Yang21@student.xjtlu.edu.cn',\n",
       " 'token': 'rings-200.VVVgLQZDn1aZXtV98uAg52ZpHC41mWJL',\n",
       " 'max_qubits': '200'}"
      ]
     },
     "execution_count": 1,
     "metadata": {},
     "output_type": "execute_result"
    }
   ],
   "source": [
    "import QuantumRingsLib\n",
    "from QuantumRingsLib import QuantumRegister, AncillaRegister, ClassicalRegister, QuantumCircuit\n",
    "from QuantumRingsLib import QuantumRingsProvider\n",
    "from QuantumRingsLib import job_monitor\n",
    "from QuantumRingsLib import JobStatus\n",
    "from matplotlib import pyplot as plt\n",
    "import numpy as np\n",
    "import math\n",
    "\n",
    "provider = QuantumRingsProvider(token='rings-200.VVVgLQZDn1aZXtV98uAg52ZpHC41mWJL', name='Ruotong.Yang21@student.xjtlu.edu.cn')\n",
    "backend = provider.get_backend(\"scarlet_quantum_rings\")\n",
    "shots = 2048\n",
    "\n",
    "provider.active_account()"
   ]
  },
  {
   "cell_type": "code",
   "execution_count": 2,
   "metadata": {},
   "outputs": [],
   "source": [
    "def iqft_cct(qc, b, n):\n",
    "    \"\"\"\n",
    "    The inverse QFT circuit\n",
    "\n",
    "    Args:\n",
    "\n",
    "        qc (QuantumCircuit):\n",
    "                The quantum circuit\n",
    "\n",
    "        b (QuantumRegister):\n",
    "                The target register\n",
    "\n",
    "        n (int):\n",
    "                The number of qubits in the registers to use\n",
    "\n",
    "    Returns:\n",
    "        None\n",
    "\n",
    "    \"\"\"\n",
    "\n",
    "    for i in range (n):\n",
    "        for j in range (1, i+1):\n",
    "            # for inverse transform, we have to use negative angles\n",
    "            qc.cu1(  -math.pi / 2** ( i -j + 1 ), b[j - 1], b[i])\n",
    "        # the H transform should be done after the rotations\n",
    "        qc.h(b[i])\n",
    "    qc.barrier()\n",
    "    return\n",
    "\n",
    "def plot_histogram (counts, title=\"\"):\n",
    "    \"\"\"\n",
    "    Plots the histogram of the counts\n",
    "\n",
    "    Args:\n",
    "\n",
    "        counts (dict):\n",
    "            The dictionary containing the counts of states\n",
    "\n",
    "        titles (str):\n",
    "            A title for the graph.\n",
    "\n",
    "    Returns:\n",
    "        None\n",
    "\n",
    "    \"\"\"\n",
    "    fig, ax = plt.subplots(figsize =(10, 7))\n",
    "    plt.xlabel(\"States\")\n",
    "    plt.ylabel(\"Counts\")\n",
    "    mylist = [key for key, val in counts.items() for _ in range(val)]\n",
    "\n",
    "    unique, inverse = np.unique(mylist, return_inverse=True)\n",
    "    bin_counts = np.bincount(inverse)\n",
    "\n",
    "    plt.bar(unique, bin_counts)\n",
    "\n",
    "    maxFreq = max(counts.values())\n",
    "    plt.ylim(ymax=np.ceil(maxFreq / 10) * 10 if maxFreq % 10 else maxFreq + 10)\n",
    "    # Show plot\n",
    "    plt.title(title)\n",
    "    plt.show()\n",
    "    return"
   ]
  },
  {
   "cell_type": "code",
   "execution_count": 4,
   "metadata": {},
   "outputs": [
    {
     "name": "stdout",
     "output_type": "stream",
     "text": [
      "       ┌───┐ ╎                                          ╎ ┌───┐               »\n",
      "q[0]: ■┤ H ├─╎──────────────────────────────────────────╎─┤ H ├───────■───────»\n",
      "       ├───┤ ╎                                          ╎ └───┘┌──────┴──────┐»\n",
      "q[1]: ■┤ H ├─╎─────────────■────■────■────■────■────■───╎──────┤ U1(-pi/2)   ├»\n",
      "       ├───┤ ╎             │    │    │    │    │    │   ╎      └─────────────┘»\n",
      "q[2]: ■┤ H ├─╎───■────■────│────│────■────■────■────■───╎─────────────────────»\n",
      "       └───┘ ╎   │    │    │    │  ┌─┴─┐  │    │    │   ╎                     »\n",
      "q[3]: ■──────╎───│────│────│────│──┤ X ├──│────│────│───╎─────────────────────»\n",
      "             ╎   │    │  ┌─┴─┐  │  └───┘┌─┴─┐  │    │   ╎                     »\n",
      "q[4]: ■──────╎───│────│──┤ X ├──│───────┤ X ├──│────│───╎─────────────────────»\n",
      "             ╎ ┌─┴─┐  │  └───┘  │       └───┘┌─┴─┐  │   ╎                     »\n",
      "q[5]: ■──────╎─┤ X ├──│─────────│────────────┤ X ├──│───╎─────────────────────»\n",
      "       ┌───┐ ╎ └───┘┌─┴─┐     ┌─┴─┐          └───┘┌─┴─┐ ╎                     »\n",
      "q[6]: ■┤ X ├─╎──────┤ X ├─────┤ X ├───────────────┤ X ├─╎─────────────────────»\n",
      "       └───┘ ╎      └───┘     └───┘               └───┘ ╎                     »\n",
      "c: 4/ ■═══════════════════════════════════════════════════════════════════════»\n",
      "                                                                              »\n",
      "«                                                                             »\n",
      "«q[0]: ■────────────■──────────────────────────────────■──────────────────────»\n",
      "«       ┌───┐       │                                  │                      »\n",
      "«q[1]: ■┤ H ├───────│──────────────■───────────────────│──────────────■───────»\n",
      "«       └───┘┌──────┴──────┐┌──────┴──────┐┌───┐       │              │       »\n",
      "«q[2]: ■─────┤ U1(-pi/4)   ├┤ U1(-pi/2)   ├┤ H ├───────│──────────────│───────»\n",
      "«            └─────────────┘└─────────────┘└───┘┌──────┴──────┐┌──────┴──────┐»\n",
      "«q[3]: ■────────────────────────────────────────┤ U1(-pi/8)   ├┤ U1(-pi/4)   ├»\n",
      "«                                               └─────────────┘└─────────────┘»\n",
      "«q[4]: ■──────────────────────────────────────────────────────────────────────»\n",
      "«                                                                             »\n",
      "«q[5]: ■──────────────────────────────────────────────────────────────────────»\n",
      "«                                                                             »\n",
      "«q[6]: ■──────────────────────────────────────────────────────────────────────»\n",
      "«                                                                             »\n",
      "«c: 4/ ■══════════════════════════════════════════════════════════════════════»\n",
      "«                                                                             »\n",
      "«                            ╎ ┌───┐                \n",
      "«q[0]: ■─────────────────────╎─┤ M ├─────────────── \n",
      "«                            ╎ └─╥─┘┌───┐           \n",
      "«q[1]: ■─────────────────────╎───║──┤ M ├────────── \n",
      "«                            ╎   ║  └─╥─┘┌───┐      \n",
      "«q[2]: ■───────■─────────────╎───║────║──┤ M ├───── \n",
      "«       ┌──────┴──────┐┌───┐ ╎   ║    ║  └─╥─┘┌───┐ \n",
      "«q[3]: ■┤ U1(-pi/2)   ├┤ H ├─╎───║────║────║──┤ M ├ \n",
      "«       └─────────────┘└───┘ ╎   ║    ║    ║  └─╥─┘ \n",
      "«q[4]: ■─────────────────────╎───║────║────║────║── \n",
      "«                            ╎   ║    ║    ║    ║   \n",
      "«q[5]: ■─────────────────────╎───║────║────║────║── \n",
      "«                            ╎   ║    ║    ║    ║   \n",
      "«q[6]: ■─────────────────────╎───║────║────║────║── \n",
      "«                            ╎   ║    ║    ║    ║   \n",
      "«c: 4/ ■═════════════════════════╩════╩════╩════╩══ \n",
      "«                                0    1    2    3   \n"
     ]
    }
   ],
   "source": [
    "# Shor’s algorithm to factorize 15 using 2^x mod 15.\n",
    "numberofqubits = 7\n",
    "shots = 1024\n",
    "\n",
    "q = QuantumRegister(numberofqubits , 'q')\n",
    "c = ClassicalRegister(4 , 'c')\n",
    "qc = QuantumCircuit(q, c)\n",
    "\n",
    "# Initialize source and target registers\n",
    "qc.h(0)\n",
    "qc.h(1)\n",
    "qc.h(2)\n",
    "qc.x(6)\n",
    "qc.barrier()\n",
    "\n",
    "# Modular exponentiation 2^x mod 15\n",
    "qc.cx(q[2],q[5])\n",
    "qc.cx(q[2],q[6])\n",
    "qc.cx(q[1],q[4])\n",
    "qc.cx(q[1],q[6])\n",
    "qc.ccx(q[1],q[2],q[3])\n",
    "qc.ccx(q[1],q[2],q[4])\n",
    "qc.ccx(q[1],q[2],q[5])\n",
    "qc.ccx(q[1],q[2],q[6]) #\n",
    "qc.barrier()\n",
    "\n",
    "# IQFT. Refer to implementation from earlier examples\n",
    "iqft_cct (qc, q, 4)\n",
    "\n",
    "# Measure\n",
    "qc.measure(q[0], c[0])\n",
    "qc.measure(q[1], c[1])\n",
    "qc.measure(q[2], c[2])\n",
    "qc.measure(q[3], c[3])\n",
    "\n",
    "# Draw the circuit\n",
    "qc.draw('mpl')\n",
    "plt.show()"
   ]
  },
  {
   "cell_type": "code",
   "execution_count": 5,
   "metadata": {},
   "outputs": [
    {
     "name": "stdout",
     "output_type": "stream",
     "text": [
      "Job Running\n",
      "Job Done.\n",
      "Ending Job Monitor\n"
     ]
    },
    {
     "data": {
      "image/png": "[encoded data removed]",
      "text/plain": [
       "<Figure size 1000x700 with 1 Axes>"
      ]
     },
     "metadata": {},
     "output_type": "display_data"
    }
   ],
   "source": [
    "# Execute the circuit\n",
    "job = backend.run(qc, shots=shots)\n",
    "job_monitor(job)\n",
    "result = job.result()\n",
    "counts = result.get_counts()\n",
    "\n",
    "# visualize\n",
    "plot_histogram(counts)\n",
    "\n",
    "#clean up\n",
    "del q, c, qc\n",
    "del result\n",
    "del job"
   ]
  }
 ],
 "metadata": {
  "kernelspec": {
   "display_name": "virtual",
   "language": "python",
   "name": "python3"
  },
  "language_info": {
   "codemirror_mode": {
    "name": "ipython",
    "version": 3
   },
   "file_extension": ".py",
   "mimetype": "text/x-python",
   "name": "python",
   "nbconvert_exporter": "python",
   "pygments_lexer": "ipython3",
   "version": "3.11.11"
  }
 },
 "nbformat": 4,
 "nbformat_minor": 2
}
